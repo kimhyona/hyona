{
 "cells": [
  {
   "cell_type": "code",
   "execution_count": 1,
   "id": "72273e2c",
   "metadata": {},
   "outputs": [],
   "source": [
    "strVal = 'data science'\n",
    "nVal = 12345             \n",
    "fVal = 1.2                        \n",
    "lVal = ['data', 'science']\n",
    "dVal = {'lecture' : 'data science'}\n",
    "bVal = True"
   ]
  },
  {
   "cell_type": "code",
   "execution_count": 2,
   "id": "1451e4ce",
   "metadata": {},
   "outputs": [
    {
     "data": {
      "text/plain": [
       "'data science'"
      ]
     },
     "execution_count": 2,
     "metadata": {},
     "output_type": "execute_result"
    }
   ],
   "source": [
    "strVal"
   ]
  },
  {
   "cell_type": "code",
   "execution_count": 3,
   "id": "dde4c6d4",
   "metadata": {},
   "outputs": [
    {
     "data": {
      "text/plain": [
       "12345"
      ]
     },
     "execution_count": 3,
     "metadata": {},
     "output_type": "execute_result"
    }
   ],
   "source": [
    "nVal"
   ]
  },
  {
   "cell_type": "code",
   "execution_count": 5,
   "id": "3b3f08d9",
   "metadata": {},
   "outputs": [
    {
     "data": {
      "text/plain": [
       "1.2"
      ]
     },
     "execution_count": 5,
     "metadata": {},
     "output_type": "execute_result"
    }
   ],
   "source": [
    "fVal"
   ]
  },
  {
   "cell_type": "code",
   "execution_count": 6,
   "id": "ecd7338f",
   "metadata": {},
   "outputs": [
    {
     "data": {
      "text/plain": [
       "['data', 'science']"
      ]
     },
     "execution_count": 6,
     "metadata": {},
     "output_type": "execute_result"
    }
   ],
   "source": [
    "lVal"
   ]
  },
  {
   "cell_type": "code",
   "execution_count": 7,
   "id": "b1a28c20",
   "metadata": {},
   "outputs": [
    {
     "data": {
      "text/plain": [
       "{'lecture': 'data science'}"
      ]
     },
     "execution_count": 7,
     "metadata": {},
     "output_type": "execute_result"
    }
   ],
   "source": [
    "dVal"
   ]
  },
  {
   "cell_type": "code",
   "execution_count": 8,
   "id": "40102085",
   "metadata": {},
   "outputs": [
    {
     "data": {
      "text/plain": [
       "True"
      ]
     },
     "execution_count": 8,
     "metadata": {},
     "output_type": "execute_result"
    }
   ],
   "source": [
    "bVal"
   ]
  },
  {
   "cell_type": "code",
   "execution_count": 9,
   "id": "659efd81",
   "metadata": {},
   "outputs": [
    {
     "name": "stdout",
     "output_type": "stream",
     "text": [
      "strVal :  data science\n",
      "nVal :  12345\n",
      "fVal :  1.2\n",
      "lVal :  ['data', 'science']\n",
      "dVal :  {'lecture': 'data science'}\n",
      "bVal :  True\n"
     ]
    }
   ],
   "source": [
    "print('strVal : ', strVal)\n",
    "print('nVal : ', nVal)\n",
    "print('fVal : ', fVal)\n",
    "print('lVal : ', lVal)\n",
    "print('dVal : ', dVal)\n",
    "print('bVal : ', bVal)"
   ]
  },
  {
   "cell_type": "code",
   "execution_count": 10,
   "id": "d55c2058",
   "metadata": {},
   "outputs": [],
   "source": [
    "nVal = 16\n",
    "fVal = 3.14"
   ]
  },
  {
   "cell_type": "code",
   "execution_count": 11,
   "id": "85578a46",
   "metadata": {},
   "outputs": [
    {
     "name": "stdout",
     "output_type": "stream",
     "text": [
      "10진수 표현 :  16\n",
      "2진수 표현 :  0b10000\n",
      "8진수 표현 :  0o20\n",
      "16진수 표현 :  0x10\n"
     ]
    }
   ],
   "source": [
    "print('10진수 표현 : ', nVal)\n",
    "print('2진수 표현 : ', bin(nVal))\n",
    "print('8진수 표현 : ', oct(nVal))\n",
    "print('16진수 표현 : ', hex(nVal))"
   ]
  },
  {
   "cell_type": "code",
   "execution_count": 12,
   "id": "5ec2403b",
   "metadata": {},
   "outputs": [],
   "source": [
    "btVal = True\n",
    "bfVal = False"
   ]
  },
  {
   "cell_type": "code",
   "execution_count": 13,
   "id": "e83fbba4",
   "metadata": {},
   "outputs": [
    {
     "ename": "NameError",
     "evalue": "name 'TRUE' is not defined",
     "output_type": "error",
     "traceback": [
      "\u001b[1;31m---------------------------------------------------------------------------\u001b[0m",
      "\u001b[1;31mNameError\u001b[0m                                 Traceback (most recent call last)",
      "\u001b[1;32m~\\AppData\\Local\\Temp/ipykernel_6808/3015132972.py\u001b[0m in \u001b[0;36m<module>\u001b[1;34m\u001b[0m\n\u001b[1;32m----> 1\u001b[1;33m \u001b[0mbtVal\u001b[0m \u001b[1;33m=\u001b[0m \u001b[0mTRUE\u001b[0m\u001b[1;33m\u001b[0m\u001b[1;33m\u001b[0m\u001b[0m\n\u001b[0m\u001b[0;32m      2\u001b[0m \u001b[0mbfVal\u001b[0m \u001b[1;33m=\u001b[0m \u001b[0mFALSE\u001b[0m\u001b[1;33m\u001b[0m\u001b[1;33m\u001b[0m\u001b[0m\n",
      "\u001b[1;31mNameError\u001b[0m: name 'TRUE' is not defined"
     ]
    }
   ],
   "source": [
    "btVal = TRUE\n",
    "bfVal = FALSE"
   ]
  },
  {
   "cell_type": "code",
   "execution_count": 14,
   "id": "e8b3b34c",
   "metadata": {},
   "outputs": [
    {
     "ename": "NameError",
     "evalue": "name 'true' is not defined",
     "output_type": "error",
     "traceback": [
      "\u001b[1;31m---------------------------------------------------------------------------\u001b[0m",
      "\u001b[1;31mNameError\u001b[0m                                 Traceback (most recent call last)",
      "\u001b[1;32m~\\AppData\\Local\\Temp/ipykernel_6808/1191053097.py\u001b[0m in \u001b[0;36m<module>\u001b[1;34m\u001b[0m\n\u001b[1;32m----> 1\u001b[1;33m \u001b[0mbtVal\u001b[0m \u001b[1;33m=\u001b[0m \u001b[0mtrue\u001b[0m\u001b[1;33m\u001b[0m\u001b[1;33m\u001b[0m\u001b[0m\n\u001b[0m\u001b[0;32m      2\u001b[0m \u001b[0mbfVal\u001b[0m \u001b[1;33m=\u001b[0m \u001b[0mfalse\u001b[0m\u001b[1;33m\u001b[0m\u001b[1;33m\u001b[0m\u001b[0m\n",
      "\u001b[1;31mNameError\u001b[0m: name 'true' is not defined"
     ]
    }
   ],
   "source": [
    "btVal = trued\n",
    "bfVal = false "
   ]
  },
  {
   "cell_type": "code",
   "execution_count": 15,
   "id": "80f97b73",
   "metadata": {},
   "outputs": [
    {
     "data": {
      "text/plain": [
       "False"
      ]
     },
     "execution_count": 15,
     "metadata": {},
     "output_type": "execute_result"
    }
   ],
   "source": [
    "10 == 11"
   ]
  },
  {
   "cell_type": "code",
   "execution_count": 16,
   "id": "209ec623",
   "metadata": {},
   "outputs": [
    {
     "data": {
      "text/plain": [
       "True"
      ]
     },
     "execution_count": 16,
     "metadata": {},
     "output_type": "execute_result"
    }
   ],
   "source": [
    "10 != 11"
   ]
  },
  {
   "cell_type": "code",
   "execution_count": 17,
   "id": "c4dccf63",
   "metadata": {},
   "outputs": [
    {
     "data": {
      "text/plain": [
       "False"
      ]
     },
     "execution_count": 17,
     "metadata": {},
     "output_type": "execute_result"
    }
   ],
   "source": [
    "10 >= 11"
   ]
  },
  {
   "cell_type": "code",
   "execution_count": 18,
   "id": "9012ef67",
   "metadata": {},
   "outputs": [
    {
     "data": {
      "text/plain": [
       "True"
      ]
     },
     "execution_count": 18,
     "metadata": {},
     "output_type": "execute_result"
    }
   ],
   "source": [
    "10 <= 11"
   ]
  },
  {
   "cell_type": "code",
   "execution_count": 19,
   "id": "3fe93165",
   "metadata": {},
   "outputs": [
    {
     "data": {
      "text/plain": [
       "False"
      ]
     },
     "execution_count": 19,
     "metadata": {},
     "output_type": "execute_result"
    }
   ],
   "source": [
    "10 > 11"
   ]
  },
  {
   "cell_type": "code",
   "execution_count": 20,
   "id": "36b346fe",
   "metadata": {},
   "outputs": [
    {
     "data": {
      "text/plain": [
       "True"
      ]
     },
     "execution_count": 20,
     "metadata": {},
     "output_type": "execute_result"
    }
   ],
   "source": [
    "10 < 11"
   ]
  },
  {
   "cell_type": "code",
   "execution_count": 21,
   "id": "dacf1c26",
   "metadata": {},
   "outputs": [],
   "source": [
    "nBig = 100\n",
    "nSmall = 10"
   ]
  },
  {
   "cell_type": "code",
   "execution_count": 22,
   "id": "3ea546e4",
   "metadata": {},
   "outputs": [
    {
     "name": "stdout",
     "output_type": "stream",
     "text": [
      "False\n",
      "True\n",
      "True\n",
      "False\n",
      "True\n",
      "False\n"
     ]
    }
   ],
   "source": [
    "print(nBig == nSmall)\n",
    "print(nBig != nSmall)\n",
    "print(nBig >= nSmall)\n",
    "print(nBig <= nSmall)\n",
    "print(nBig > nSmall)\n",
    "print(nBig < nSmall)"
   ]
  },
  {
   "cell_type": "code",
   "execution_count": 23,
   "id": "d3ce9a16",
   "metadata": {},
   "outputs": [
    {
     "ename": "SyntaxError",
     "evalue": "invalid syntax (Temp/ipykernel_6808/2189819302.py, line 1)",
     "output_type": "error",
     "traceback": [
      "\u001b[1;36m  File \u001b[1;32m\"C:\\Users\\sookj\\AppData\\Local\\Temp/ipykernel_6808/2189819302.py\"\u001b[1;36m, line \u001b[1;32m1\u001b[0m\n\u001b[1;33m    print(nBig =< nSmall)\u001b[0m\n\u001b[1;37m                ^\u001b[0m\n\u001b[1;31mSyntaxError\u001b[0m\u001b[1;31m:\u001b[0m invalid syntax\n"
     ]
    }
   ],
   "source": [
    "print(nBig =< nSmall)"
   ]
  },
  {
   "cell_type": "code",
   "execution_count": 24,
   "id": "17bb1b14",
   "metadata": {},
   "outputs": [
    {
     "ename": "SyntaxError",
     "evalue": "invalid syntax (Temp/ipykernel_6808/4185127180.py, line 1)",
     "output_type": "error",
     "traceback": [
      "\u001b[1;36m  File \u001b[1;32m\"C:\\Users\\sookj\\AppData\\Local\\Temp/ipykernel_6808/4185127180.py\"\u001b[1;36m, line \u001b[1;32m1\u001b[0m\n\u001b[1;33m    print(nBig => nSmall)\u001b[0m\n\u001b[1;37m                ^\u001b[0m\n\u001b[1;31mSyntaxError\u001b[0m\u001b[1;31m:\u001b[0m invalid syntax\n"
     ]
    }
   ],
   "source": [
    "print(nBig => nSmall)"
   ]
  },
  {
   "cell_type": "code",
   "execution_count": 25,
   "id": "57ba4987",
   "metadata": {},
   "outputs": [],
   "source": [
    "strData = 'data'\n",
    "strSci = \"Science\""
   ]
  },
  {
   "cell_type": "code",
   "execution_count": 26,
   "id": "5d9e92be",
   "metadata": {},
   "outputs": [],
   "source": [
    "strLecture = strData + strSci"
   ]
  },
  {
   "cell_type": "code",
   "execution_count": 27,
   "id": "3ab3c265",
   "metadata": {},
   "outputs": [
    {
     "data": {
      "text/plain": [
       "'data Science'"
      ]
     },
     "execution_count": 27,
     "metadata": {},
     "output_type": "execute_result"
    }
   ],
   "source": [
    "strLecture = strData +\" \"+ strSci\n",
    "strLecture"
   ]
  },
  {
   "cell_type": "code",
   "execution_count": 28,
   "id": "41fa2c6b",
   "metadata": {},
   "outputs": [
    {
     "data": {
      "text/plain": [
       "['data', 'Science']"
      ]
     },
     "execution_count": 28,
     "metadata": {},
     "output_type": "execute_result"
    }
   ],
   "source": [
    "strLecture.split()"
   ]
  },
  {
   "cell_type": "code",
   "execution_count": 29,
   "id": "606f5a1b",
   "metadata": {},
   "outputs": [],
   "source": [
    "lSeperate = strLecture.split()"
   ]
  },
  {
   "cell_type": "code",
   "execution_count": 30,
   "id": "c34ae34c",
   "metadata": {},
   "outputs": [
    {
     "data": {
      "text/plain": [
       "list"
      ]
     },
     "execution_count": 30,
     "metadata": {},
     "output_type": "execute_result"
    }
   ],
   "source": [
    "type(lSeperate)"
   ]
  },
  {
   "cell_type": "code",
   "execution_count": 31,
   "id": "25a7d3ef",
   "metadata": {},
   "outputs": [],
   "source": [
    "strHello = \"안녕하세요. 반갑습니다.\""
   ]
  },
  {
   "cell_type": "code",
   "execution_count": null,
   "id": "9092d0a0",
   "metadata": {},
   "outputs": [],
   "source": [
    "strHello.find(\"반갑\")"
   ]
  },
  {
   "cell_type": "code",
   "execution_count": null,
   "id": "8afd686f",
   "metadata": {},
   "outputs": [],
   "source": [
    "strHello.find(\"hello\")"
   ]
  },
  {
   "cell_type": "code",
   "execution_count": null,
   "id": "af32a194",
   "metadata": {},
   "outputs": [],
   "source": [
    "\"반갑\" in strHello"
   ]
  },
  {
   "cell_type": "code",
   "execution_count": null,
   "id": "479140e0",
   "metadata": {},
   "outputs": [],
   "source": [
    "strHello.replace('.', '?')"
   ]
  },
  {
   "cell_type": "code",
   "execution_count": null,
   "id": "b7725a7e",
   "metadata": {},
   "outputs": [],
   "source": [
    "strHello.replace('.', '?')         \n",
    "strHello.replace(\"하세요\", \"하셔유\")"
   ]
  },
  {
   "cell_type": "code",
   "execution_count": null,
   "id": "29b21492",
   "metadata": {},
   "outputs": [],
   "source": [
    "strHello"
   ]
  },
  {
   "cell_type": "code",
   "execution_count": 4,
   "id": "561b6f20",
   "metadata": {},
   "outputs": [
    {
     "ename": "NameError",
     "evalue": "name 'strHello' is not defined",
     "output_type": "error",
     "traceback": [
      "\u001b[1;31m---------------------------------------------------------------------------\u001b[0m",
      "\u001b[1;31mNameError\u001b[0m                                 Traceback (most recent call last)",
      "\u001b[1;32m~\\AppData\\Local\\Temp/ipykernel_6808/366480094.py\u001b[0m in \u001b[0;36m<module>\u001b[1;34m\u001b[0m\n\u001b[1;32m----> 1\u001b[1;33m \u001b[0mstrNewHello\u001b[0m \u001b[1;33m=\u001b[0m \u001b[0mstrHello\u001b[0m\u001b[1;33m.\u001b[0m\u001b[0mreplace\u001b[0m\u001b[1;33m(\u001b[0m\u001b[1;34m'.'\u001b[0m\u001b[1;33m,\u001b[0m \u001b[1;34m'?'\u001b[0m\u001b[1;33m)\u001b[0m\u001b[1;33m\u001b[0m\u001b[1;33m\u001b[0m\u001b[0m\n\u001b[0m\u001b[0;32m      2\u001b[0m \u001b[0mstrNewHello\u001b[0m \u001b[1;33m=\u001b[0m \u001b[0mstrNewHello\u001b[0m\u001b[1;33m.\u001b[0m\u001b[0mreplace\u001b[0m\u001b[1;33m(\u001b[0m\u001b[1;34m\"하세요\"\u001b[0m\u001b[1;33m,\u001b[0m \u001b[1;34m\"하셔유\"\u001b[0m\u001b[1;33m)\u001b[0m\u001b[1;33m\u001b[0m\u001b[1;33m\u001b[0m\u001b[0m\n\u001b[0;32m      3\u001b[0m \u001b[0mstrNewHello\u001b[0m\u001b[1;33m\u001b[0m\u001b[1;33m\u001b[0m\u001b[0m\n",
      "\u001b[1;31mNameError\u001b[0m: name 'strHello' is not defined"
     ]
    }
   ],
   "source": [
    "strNewHello = strHello.replace('.', '?')\n",
    "strNewHello = strNewHello.replace(\"하세요\", \"하셔유\")\n",
    "strNewHello"
   ]
  },
  {
   "cell_type": "code",
   "execution_count": null,
   "id": "61b3885a",
   "metadata": {},
   "outputs": [],
   "source": [
    "strHello.strip('반갑습니다.')"
   ]
  },
  {
   "cell_type": "code",
   "execution_count": null,
   "id": "baa2d3e5",
   "metadata": {},
   "outputs": [],
   "source": [
    "strHello"
   ]
  },
  {
   "cell_type": "code",
   "execution_count": null,
   "id": "6ab15a6c",
   "metadata": {},
   "outputs": [],
   "source": [
    "lnData = [1,2,3,4,5]\n",
    "print(lnData)\n",
    "print('type : ', type(lnData))"
   ]
  },
  {
   "cell_type": "code",
   "execution_count": null,
   "id": "76c609c2",
   "metadata": {},
   "outputs": [],
   "source": [
    "print(lnData[0]\n",
    "print(lnData[3])"
   ]
  },
  {
   "cell_type": "code",
   "execution_count": null,
   "id": "30cd1f3b",
   "metadata": {},
   "outputs": [],
   "source": [
    "lnData[0] = lnData[4]\n",
    "print(lnData)"
   ]
  },
  {
   "cell_type": "code",
   "execution_count": null,
   "id": "4fded70c",
   "metadata": {},
   "outputs": [],
   "source": [
    "print(lnData[2:4])"
   ]
  },
  {
   "cell_type": "code",
   "execution_count": null,
   "id": "cc3483cf",
   "metadata": {},
   "outputs": [],
   "source": [
    "lnData = [1,2,3,4,5]\n",
    "lstrData=['a', 'b', 'c']\n",
    "lnData + lstrData"
   ]
  },
  {
   "cell_type": "code",
   "execution_count": null,
   "id": "9f0531f3",
   "metadata": {},
   "outputs": [],
   "source": [
    "lnData.append(10)\n",
    "lnData"
   ]
  },
  {
   "cell_type": "code",
   "execution_count": null,
   "id": "8c2ea22c",
   "metadata": {},
   "outputs": [],
   "source": [
    "lnData.insert(0, 'python')\n",
    "lnData"
   ]
  },
  {
   "cell_type": "code",
   "execution_count": null,
   "id": "1223e928",
   "metadata": {},
   "outputs": [],
   "source": [
    "lnData.remove('python')\n",
    "lnData"
   ]
  },
  {
   "cell_type": "code",
   "execution_count": null,
   "id": "3f33e8c0",
   "metadata": {},
   "outputs": [],
   "source": [
    "del lnData[5]\n",
    "lnData"
   ]
  },
  {
   "cell_type": "code",
   "execution_count": null,
   "id": "eb545511",
   "metadata": {},
   "outputs": [],
   "source": [
    "lnData"
   ]
  },
  {
   "cell_type": "code",
   "execution_count": null,
   "id": "5bc22b85",
   "metadata": {},
   "outputs": [],
   "source": [
    "lnData.pop(0)\n",
    "lnData"
   ]
  },
  {
   "cell_type": "code",
   "execution_count": null,
   "id": "4e657f55",
   "metadata": {},
   "outputs": [],
   "source": [
    "lnData.pop()\n",
    "lnData"
   ]
  },
  {
   "cell_type": "code",
   "execution_count": null,
   "id": "958474f8",
   "metadata": {},
   "outputs": [],
   "source": [
    "lnData.clear()\n",
    "lnData"
   ]
  },
  {
   "cell_type": "code",
   "execution_count": null,
   "id": "4562b8b0",
   "metadata": {},
   "outputs": [],
   "source": [
    "tVal = (\"사과\", \"딸기\", \"바나나\", \"토마토\", \"키위\")\n",
    "\n",
    "print(tVal)\n",
    "print(type(tVal))"
   ]
  },
  {
   "cell_type": "code",
   "execution_count": null,
   "id": "fcffefd1",
   "metadata": {},
   "outputs": [],
   "source": [
    "# 튜플에 저장된 데이터는 변경이 불가능 오류\n",
    "tVal[0] = \"포도"
   ]
  },
  {
   "cell_type": "code",
   "execution_count": null,
   "id": "fdcea699",
   "metadata": {},
   "outputs": [],
   "source": [
    "# count() 함수를 이용하여 튜플에 저장된 특정 데이터의 개수를 확인\n",
    "tData = ( 1, 2, 3, 1, 2, 3, 4, 5, 1, 2, 7)\n",
    "tData.count(1)"
   ]
  },
  {
   "cell_type": "code",
   "execution_count": null,
   "id": "c4f37aa0",
   "metadata": {},
   "outputs": [],
   "source": [
    "# len()함수를 이용하여 튜플에 저장된 전체 데이터 개수를 확인\n",
    "len(tVal)"
   ]
  },
  {
   "cell_type": "code",
   "execution_count": null,
   "id": "5c32ce6a",
   "metadata": {},
   "outputs": [],
   "source": [
    "len(tData)"
   ]
  },
  {
   "cell_type": "code",
   "execution_count": null,
   "id": "2eaef90a",
   "metadata": {},
   "outputs": [],
   "source": [
    "print(tData[2:5])"
   ]
  },
  {
   "cell_type": "code",
   "execution_count": null,
   "id": "e64f4258",
   "metadata": {},
   "outputs": [],
   "source": [
    "tTuple = tVal+ tData\n",
    "print(tTuple)"
   ]
  },
  {
   "cell_type": "code",
   "execution_count": null,
   "id": "071d9038",
   "metadata": {},
   "outputs": [],
   "source": [
    "tData * 2"
   ]
  },
  {
   "cell_type": "code",
   "execution_count": null,
   "id": "74a5d5e4",
   "metadata": {},
   "outputs": [],
   "source": [
    "tData"
   ]
  },
  {
   "cell_type": "code",
   "execution_count": null,
   "id": "0187d64b",
   "metadata": {},
   "outputs": [],
   "source": [
    "tData2 = tData * 2\n",
    "print(tData2)"
   ]
  },
  {
   "cell_type": "code",
   "execution_count": null,
   "id": "0c61430f",
   "metadata": {},
   "outputs": [],
   "source": [
    "print(\"tVal memory = \", hex(id(tVal)))\n",
    "tVal = tVal * 2\n",
    "print(\"tVal memory = \", hex(id(tVal)))\n",
    "print(tVal)"
   ]
  },
  {
   "cell_type": "code",
   "execution_count": null,
   "id": "ed8b77e3",
   "metadata": {},
   "outputs": [],
   "source": [
    "print(\"tVal memory = \", hex(id(tVal)))\n",
    "tVal = tVal + tVal\n",
    "print(\"tVal memory = \", hex(id(tVal)))\n",
    "print(tVal)"
   ]
  },
  {
   "cell_type": "code",
   "execution_count": null,
   "id": "7046f3ec",
   "metadata": {},
   "outputs": [],
   "source": [
    "sVal = {1, 2, 3, 4, 5}\n",
    "print(sVal)\n",
    "print(type(sVal))"
   ]
  },
  {
   "cell_type": "code",
   "execution_count": null,
   "id": "8d2ed19e",
   "metadata": {},
   "outputs": [],
   "source": [
    "# 오류\n",
    "sVal[1:2]"
   ]
  },
  {
   "cell_type": "code",
   "execution_count": null,
   "id": "69fb77a1",
   "metadata": {},
   "outputs": [],
   "source": [
    "# add 함수를 이용하여 데이터를 추가할 수 있음\n",
    "sVal.add(100)\n",
    "print(sVal)"
   ]
  },
  {
   "cell_type": "code",
   "execution_count": null,
   "id": "ba9db4a3",
   "metadata": {},
   "outputs": [],
   "source": [
    "# update 함수를 이용하여 여러개의 데이터를 추가할 수 있음\n",
    "sVal.update([200, 300])\n",
    "print(sVal)"
   ]
  },
  {
   "cell_type": "code",
   "execution_count": null,
   "id": "7f60e110",
   "metadata": {},
   "outputs": [],
   "source": [
    "# remove 함수를 이용하여 데이터를 삭제할 수 있음 오류\n",
    "sVal.remove(200)\n",
    "print(sVal)"
   ]
  },
  {
   "cell_type": "code",
   "execution_count": null,
   "id": "5c923075",
   "metadata": {},
   "outputs": [],
   "source": [
    "# clear() 함수를 이용하여 데이터를 초기화 할 수 있음\n",
    "sVal.clear()\n",
    "print(sVal)"
   ]
  },
  {
   "cell_type": "code",
   "execution_count": null,
   "id": "2970062d",
   "metadata": {},
   "outputs": [],
   "source": [
    "sVal = {100, 200, 300, 400, 500}\n",
    "sData = {\"a\", \"b\", \"c\", \"c\", 100, 300}\n",
    "print(sVal)\n",
    "print(sData)"
   ]
  },
  {
   "cell_type": "code",
   "execution_count": null,
   "id": "edc7eee4",
   "metadata": {},
   "outputs": [],
   "source": [
    "# intersection() 함수를 이용하여 교집합을 만들 수 있음\n",
    "sVal.intersection(sData)"
   ]
  },
  {
   "cell_type": "code",
   "execution_count": null,
   "id": "517a9878",
   "metadata": {},
   "outputs": [],
   "source": [
    "# deference() 함수를 이용하여 차집합을 만들 수 있음\n",
    "sVal.difference(sData)"
   ]
  },
  {
   "cell_type": "code",
   "execution_count": null,
   "id": "e6881e43",
   "metadata": {},
   "outputs": [],
   "source": [
    "# \"-\" 연산자로도 가능\n",
    "sVal - sData"
   ]
  },
  {
   "cell_type": "code",
   "execution_count": null,
   "id": "33d7a31e",
   "metadata": {},
   "outputs": [],
   "source": [
    "# union() 함수를 이용하여 합집합을 만들 수 있음\n",
    "sVal.union(sData)"
   ]
  },
  {
   "cell_type": "code",
   "execution_count": null,
   "id": "a47a4f3c",
   "metadata": {},
   "outputs": [],
   "source": [
    "# \"+\"연산자는 불가능 오류\n",
    "sVal + sData"
   ]
  },
  {
   "cell_type": "code",
   "execution_count": null,
   "id": "9c304309",
   "metadata": {},
   "outputs": [],
   "source": [
    "# symetric_difference()를 이용하여 합집합에서 교집합을 뺀 집합을 만들 수 있음\n",
    "sVal.symmetric_difference(sData)"
   ]
  },
  {
   "cell_type": "code",
   "execution_count": null,
   "id": "3bcb73cc",
   "metadata": {},
   "outputs": [],
   "source": [
    "# 딕셔너리 기본 구조는 다음과 같이 표현할 수 있음\n",
    "dVal = {\n",
    "    'name' : '이컴공',\n",
    "    'email' : 'computer@hoseo.edu',\n",
    "    'address' : '충남 아산시'\n",
    "}\n",
    "print(dVal)\n",
    "print(type(dVal))"
   ]
  },
  {
   "cell_type": "code",
   "execution_count": null,
   "id": "fe613ab5",
   "metadata": {},
   "outputs": [],
   "source": [
    "dData = {\n",
    "    \"사과\" : 300, \n",
    "    \"포도\" : 200, \n",
    "    \"배\" : 500,\n",
    "    \"키위\" : 100\n",
    "}\n"
   ]
  },
  {
   "cell_type": "code",
   "execution_count": null,
   "id": "5b42f3db",
   "metadata": {},
   "outputs": [],
   "source": [
    "# 키를 이용한 항목 검색\n",
    "print(dData[\"배\"])"
   ]
  },
  {
   "cell_type": "code",
   "execution_count": null,
   "id": "40b7774c",
   "metadata": {},
   "outputs": [],
   "source": [
    "# get() 함수를 이용한 항목 검색\n",
    "dData.get(\"배\")"
   ]
  },
  {
   "cell_type": "code",
   "execution_count": null,
   "id": "258cb2a1",
   "metadata": {},
   "outputs": [],
   "source": [
    "# 새로운 키 추가를 통한 항목 추가\n",
    "dData[\"딸기\"] = 100\n",
    "print(dData)"
   ]
  },
  {
   "cell_type": "code",
   "execution_count": null,
   "id": "b8158367",
   "metadata": {},
   "outputs": [],
   "source": [
    "# pop을 이용한 항목 삭제\n",
    "dData.pop(\"사과\")"
   ]
  },
  {
   "cell_type": "code",
   "execution_count": null,
   "id": "ad17c0ad",
   "metadata": {},
   "outputs": [],
   "source": [
    "dData"
   ]
  },
  {
   "cell_type": "code",
   "execution_count": null,
   "id": "b154c497",
   "metadata": {},
   "outputs": [],
   "source": [
    "#오류\n",
    "dData.pop() "
   ]
  },
  {
   "cell_type": "code",
   "execution_count": null,
   "id": "db8ebe0f",
   "metadata": {},
   "outputs": [],
   "source": [
    "# sorted 함수를 이용한 정렬\n",
    "sorted(dData)"
   ]
  },
  {
   "cell_type": "code",
   "execution_count": null,
   "id": "198b4018",
   "metadata": {},
   "outputs": [],
   "source": [
    "# sorted와 values 함수를 이용하여 값을 정렬할 수 있음\n",
    "sorted(dData.values())"
   ]
  },
  {
   "cell_type": "code",
   "execution_count": null,
   "id": "4d4d5b7c",
   "metadata": {},
   "outputs": [],
   "source": [
    "# 실제 dData는 변화가 없음\n",
    "dData"
   ]
  },
  {
   "cell_type": "code",
   "execution_count": null,
   "id": "3bd222ca",
   "metadata": {},
   "outputs": [],
   "source": [
    "# 함수 f(x)를 생성하고 x 값을 입력으로 받음\n",
    "def f(x):\n",
    "  # x에 10을 더한 값을 출력\n",
    "  return x + 10"
   ]
  },
  {
   "cell_type": "code",
   "execution_count": null,
   "id": "0b411bc0",
   "metadata": {},
   "outputs": [],
   "source": [
    "f(2)"
   ]
  },
  {
   "cell_type": "code",
   "execution_count": null,
   "id": "be242894",
   "metadata": {},
   "outputs": [],
   "source": [
    "#4주차 넘파이와 판다스"
   ]
  },
  {
   "cell_type": "code",
   "execution_count": 1,
   "id": "a3a9389f",
   "metadata": {},
   "outputs": [
    {
     "name": "stdout",
     "output_type": "stream",
     "text": [
      "아무 문장이나 입력하세요 : \n",
      "\n"
     ]
    }
   ],
   "source": [
    "# 내장함수 예 : input\n",
    "strText = input(\"아무 문장이나 입력하세요 : \")\n",
    "print(strText)"
   ]
  },
  {
   "cell_type": "code",
   "execution_count": null,
   "id": "233a0f50",
   "metadata": {},
   "outputs": [],
   "source": [
    "# List를 이용한 다차원 배열\n",
    "flVal = [1.0, 2.0, 3.14, 4.2, 5.1]  # 실수 list를 생성"
   ]
  },
  {
   "cell_type": "code",
   "execution_count": null,
   "id": "91d66e5a",
   "metadata": {},
   "outputs": [],
   "source": [
    "# flVal 3개를 리스트로 구성하여 arVal 다차원 배열을 생성\n",
    "arVal = [flVal, flVal, flVal]\n",
    "arVal"
   ]
  },
  {
   "cell_type": "code",
   "execution_count": null,
   "id": "604e4eef",
   "metadata": {},
   "outputs": [],
   "source": [
    "# arVal은 다차원 배열이므로, arVal[n] 인덱스 연산을 통해 n차원 배열 값을 출력\n",
    "arVal[0]"
   ]
  },
  {
   "cell_type": "code",
   "execution_count": null,
   "id": "febe4fc7",
   "metadata": {},
   "outputs": [],
   "source": [
    "arVal[1]"
   ]
  },
  {
   "cell_type": "code",
   "execution_count": null,
   "id": "3cad23c9",
   "metadata": {},
   "outputs": [],
   "source": [
    "arVal[1][2]"
   ]
  },
  {
   "cell_type": "code",
   "execution_count": null,
   "id": "685f7fa8",
   "metadata": {},
   "outputs": [],
   "source": [
    "# 1 차원 값을 변환하여 다른 값을 대입 했을때의 다차원 배열\n",
    "arVal[0] = 'python'\n",
    "arVal"
   ]
  },
  {
   "cell_type": "code",
   "execution_count": null,
   "id": "99107788",
   "metadata": {},
   "outputs": [],
   "source": [
    "arVal[0][2]"
   ]
  },
  {
   "cell_type": "code",
   "execution_count": null,
   "id": "31876529",
   "metadata": {},
   "outputs": [],
   "source": [
    "arVal[0] = 'python programming'\n",
    "arVal"
   ]
  },
  {
   "cell_type": "code",
   "execution_count": null,
   "id": "957dc6dc",
   "metadata": {},
   "outputs": [],
   "source": [
    "# numpy 패치지를 import \n",
    "import numpy as np\n",
    "arData = np.array([1.0, 2.0, 3.14, 4.2, 5.1])\n",
    "arData\n"
   ]
  },
  {
   "cell_type": "code",
   "execution_count": null,
   "id": "ed560b3f",
   "metadata": {},
   "outputs": [],
   "source": [
    "# 배열 각 요소의 합을 출력\n",
    "arData.sum()"
   ]
  },
  {
   "cell_type": "code",
   "execution_count": null,
   "id": "74b949b2",
   "metadata": {},
   "outputs": [],
   "source": [
    "#오류코드\n",
    "arVal.sum()"
   ]
  },
  {
   "cell_type": "code",
   "execution_count": null,
   "id": "cdbcd5e8",
   "metadata": {},
   "outputs": [],
   "source": [
    "print(type(arVal))\n",
    "print(type(arData))"
   ]
  },
  {
   "cell_type": "code",
   "execution_count": null,
   "id": "aa397388",
   "metadata": {},
   "outputs": [],
   "source": [
    "# 배열에 대한 표준편차 출력\n",
    "arData.std()"
   ]
  },
  {
   "cell_type": "code",
   "execution_count": null,
   "id": "44ab8fe7",
   "metadata": {},
   "outputs": [],
   "source": [
    "# 배열의 누적 합을 출력\n",
    "arData.cumsum()"
   ]
  },
  {
   "cell_type": "code",
   "execution_count": null,
   "id": "8a5090f3",
   "metadata": {},
   "outputs": [],
   "source": [
    "arData * 2"
   ]
  },
  {
   "cell_type": "code",
   "execution_count": null,
   "id": "5e86a524",
   "metadata": {},
   "outputs": [],
   "source": [
    "arData ** 2 # 2를 제곱"
   ]
  },
  {
   "cell_type": "code",
   "execution_count": null,
   "id": "6128a53f",
   "metadata": {},
   "outputs": [],
   "source": [
    "# 루트를 적용한 값을 출력\n",
    "np.sqrt(arData)"
   ]
  },
  {
   "cell_type": "code",
   "execution_count": null,
   "id": "a5351a99",
   "metadata": {},
   "outputs": [],
   "source": [
    "arVal = np.array([arData, arData ** 2])\n",
    "arVal"
   ]
  },
  {
   "cell_type": "code",
   "execution_count": null,
   "id": "a69d00fd",
   "metadata": {},
   "outputs": [],
   "source": [
    "arVal.sum(axis=0) # 축(axis)이 0일 경우 세로 축의 합을 출력"
   ]
  },
  {
   "cell_type": "code",
   "execution_count": null,
   "id": "1d4e5dd2",
   "metadata": {},
   "outputs": [],
   "source": [
    "arVal.sum(axis=1) # 축(axis)이 0일 경우 가로 축의 합을 출력"
   ]
  },
  {
   "cell_type": "code",
   "execution_count": null,
   "id": "f4af1bd2",
   "metadata": {},
   "outputs": [],
   "source": [
    "# NumPy.array를 사용한 코드\n",
    "np.array([[0,0,0],[0,0,0]])"
   ]
  },
  {
   "cell_type": "code",
   "execution_count": null,
   "id": "43297732",
   "metadata": {},
   "outputs": [],
   "source": [
    "# NumPy.zeros를 사용한 코드\n",
    "arZero = np.zeros((2,3), dtype = 'i') \n",
    "arZero"
   ]
  },
  {
   "cell_type": "code",
   "execution_count": null,
   "id": "b4f75b39",
   "metadata": {},
   "outputs": [],
   "source": [
    "# pandas import\n",
    "import pandas as pd\n",
    "\n",
    "pandas_series = pd.Series([30, 20, 10], index=['국어', '영어', '수학'])\n",
    "print(type(pandas_series))\n",
    "pandas_series"
   ]
  },
  {
   "cell_type": "code",
   "execution_count": null,
   "id": "a574d5a4",
   "metadata": {},
   "outputs": [],
   "source": [
    "pandas_series[1:]"
   ]
  },
  {
   "cell_type": "code",
   "execution_count": null,
   "id": "0c3e55b6",
   "metadata": {},
   "outputs": [],
   "source": [
    "pandas_series[0]"
   ]
  },
  {
   "cell_type": "code",
   "execution_count": null,
   "id": "a39c4dd0",
   "metadata": {},
   "outputs": [],
   "source": [
    "#오류\n",
    "pandas_series[0][1]"
   ]
  },
  {
   "cell_type": "code",
   "execution_count": null,
   "id": "9e478539",
   "metadata": {},
   "outputs": [],
   "source": [
    "df = pd.DataFrame([30,20,10], columns=['score'], index=['국어', '영어', '수학'])\n",
    "df"
   ]
  },
  {
   "cell_type": "code",
   "execution_count": null,
   "id": "349a23e3",
   "metadata": {},
   "outputs": [],
   "source": [
    "# DataFrame의 index를 표시\n",
    "df.index"
   ]
  },
  {
   "cell_type": "code",
   "execution_count": null,
   "id": "a9e2d861",
   "metadata": {},
   "outputs": [],
   "source": [
    "# DataFrame의 column을 표시\n",
    "df.columns"
   ]
  },
  {
   "cell_type": "code",
   "execution_count": null,
   "id": "91051569",
   "metadata": {},
   "outputs": [],
   "source": [
    "# DataFrame의index 중에서 국어에 해당하는 값을 출력\n",
    "df.loc['국어']   # ix 함수가 최근 제거되어 loc를 써야 동작"
   ]
  },
  {
   "cell_type": "code",
   "execution_count": null,
   "id": "17f79cfb",
   "metadata": {},
   "outputs": [],
   "source": [
    "# DataFrame의 값을 모두 합한 결과를 출력\n",
    "df.sum()"
   ]
  },
  {
   "cell_type": "code",
   "execution_count": null,
   "id": "6f00e4ba",
   "metadata": {},
   "outputs": [],
   "source": [
    "# DataFrame의 각 colimn 값의 제곱을 출력\n",
    "df.score ** 2"
   ]
  },
  {
   "cell_type": "code",
   "execution_count": null,
   "id": "b297a2df",
   "metadata": {},
   "outputs": [],
   "source": [
    "# DataFrame에 score2 라는 칼럼을 추가하고 값을 입력\n",
    "df['score2'] = (50, 50, 50)\n",
    "df"
   ]
  },
  {
   "cell_type": "code",
   "execution_count": null,
   "id": "52fc99ab",
   "metadata": {},
   "outputs": [],
   "source": [
    "# DataFrame 함수를 이용하여 column을 추가할 수 있음\n",
    "df['score2'] = pd.DataFrame([90,90,90], index=['국어', '영어', '수학'])\n",
    "d"
   ]
  },
  {
   "cell_type": "code",
   "execution_count": null,
   "id": "031ba05f",
   "metadata": {},
   "outputs": [],
   "source": [
    "# column 삭제\n",
    "del df['score']"
   ]
  },
  {
   "cell_type": "code",
   "execution_count": null,
   "id": "dfb7a2de",
   "metadata": {},
   "outputs": [],
   "source": [
    "# index 를 맞추기 않았을 경우 \n",
    "df['score2'] = (90, 90, 90, 100)"
   ]
  },
  {
   "cell_type": "code",
   "execution_count": null,
   "id": "04c83a48",
   "metadata": {},
   "outputs": [],
   "source": [
    "# index 를 맞추기 않았을 경우\n",
    "df['score2'] = pd.DataFrame([90, 90, 90, 100], index=['국어', '영어', '수학', '윤리'])\n",
    "df"
   ]
  },
  {
   "cell_type": "code",
   "execution_count": null,
   "id": "617be913",
   "metadata": {},
   "outputs": [],
   "source": [
    "# join() 함수를 이용하여 2개의 DataFrame을 하나로 합칠 수 있음\n",
    "df1 = pd.DataFrame([1, 2, 3], columns = ['A'])\n",
    "df2 = pd.DataFrame([10, 11, 12, 13], columns = ['B'])\n",
    "\n",
    "df = df1.join(df2, how='outer')\n",
    "df"
   ]
  },
  {
   "cell_type": "code",
   "execution_count": null,
   "id": "5a8bf61c",
   "metadata": {},
   "outputs": [],
   "source": [
    "df_inner = df1.join(df2, how='inner')\n",
    "df_inner"
   ]
  },
  {
   "cell_type": "code",
   "execution_count": null,
   "id": "aca8afe6",
   "metadata": {},
   "outputs": [],
   "source": [
    "# 난수를 이용한 임의의 값 생성\n",
    "df = pd.DataFrame(np.random.randn(5,5))\n",
    "df.columns = ['A', 'B', 'C', 'D', 'E']\n",
    "\n",
    "df"
   ]
  },
  {
   "cell_type": "code",
   "execution_count": null,
   "id": "267d0be0",
   "metadata": {},
   "outputs": [],
   "source": [
    "# 최대값\n",
    "df.max()"
   ]
  },
  {
   "cell_type": "code",
   "execution_count": null,
   "id": "c08563fb",
   "metadata": {},
   "outputs": [],
   "source": [
    "# 최소값\n",
    "df.min()"
   ]
  },
  {
   "cell_type": "code",
   "execution_count": null,
   "id": "e350b77a",
   "metadata": {},
   "outputs": [],
   "source": [
    "# 평균\n",
    "df.mean()"
   ]
  },
  {
   "cell_type": "code",
   "execution_count": null,
   "id": "faca5321",
   "metadata": {},
   "outputs": [],
   "source": [
    "# 표준편차\n",
    "df.std()"
   ]
  },
  {
   "cell_type": "code",
   "execution_count": null,
   "id": "9c49bc41",
   "metadata": {},
   "outputs": [],
   "source": [
    "# 누적값\n",
    "df.cumsum()"
   ]
  },
  {
   "cell_type": "code",
   "execution_count": null,
   "id": "2ecd02c8",
   "metadata": {},
   "outputs": [],
   "source": [
    "# DataFrame의 통계적 요약\n",
    "df.describe()"
   ]
  },
  {
   "cell_type": "code",
   "execution_count": null,
   "id": "5ccae996",
   "metadata": {},
   "outputs": [],
   "source": [
    "# Group by를 이용한 DataFrame의 그룹화\n",
    "df['division'] = ['X', 'Y', 'X', 'Y', 'Z']\n",
    "df"
   ]
  },
  {
   "cell_type": "code",
   "execution_count": null,
   "id": "eef3443b",
   "metadata": {},
   "outputs": [],
   "source": [
    "df.groupby(['division']).mean()"
   ]
  },
  {
   "cell_type": "code",
   "execution_count": null,
   "id": "de0753e9",
   "metadata": {},
   "outputs": [],
   "source": [
    "#5주차 데이터프레임"
   ]
  },
  {
   "cell_type": "code",
   "execution_count": null,
   "id": "315adf8c",
   "metadata": {},
   "outputs": [],
   "source": [
    "import pandas as pd\n",
    "\n",
    "sr = pd.Series([100, 200, 300, 400])\n",
    "sr.index = ['A', 'B', 'O', 'AB']\n",
    "sr"
   ]
  },
  {
   "cell_type": "code",
   "execution_count": null,
   "id": "f95b61e4",
   "metadata": {},
   "outputs": [],
   "source": [
    "sr1 = pd.Series([10, 20, 30])\n",
    "sr1"
   ]
  },
  {
   "cell_type": "code",
   "execution_count": null,
   "id": "54f95558",
   "metadata": {},
   "outputs": [],
   "source": [
    "df = pd.DataFrame({'키':[170, 180, 175], '몸무게':[65, 78, 70]})\n",
    "df.index = ['스파이더맨', '닥터스트레인지', '아이언맨']\n",
    "df"
   ]
  },
  {
   "cell_type": "code",
   "execution_count": null,
   "id": "7a6db384",
   "metadata": {},
   "outputs": [],
   "source": [
    "df = pd.read_csv('scores.csv', encoding='cp949')\n",
    "df"
   ]
  },
  {
   "cell_type": "code",
   "execution_count": null,
   "id": "235d0bfc",
   "metadata": {},
   "outputs": [],
   "source": [
    "df.head()"
   ]
  },
  {
   "cell_type": "code",
   "execution_count": null,
   "id": "53c3f7c8",
   "metadata": {},
   "outputs": [],
   "source": [
    "df.tail()"
   ]
  },
  {
   "cell_type": "code",
   "execution_count": null,
   "id": "d89c343c",
   "metadata": {},
   "outputs": [],
   "source": [
    "df.sample(3)"
   ]
  },
  {
   "cell_type": "code",
   "execution_count": null,
   "id": "d21d59ff",
   "metadata": {},
   "outputs": [],
   "source": [
    "df.info()"
   ]
  },
  {
   "cell_type": "code",
   "execution_count": null,
   "id": "716655f0",
   "metadata": {},
   "outputs": [],
   "source": [
    "df.shape"
   ]
  },
  {
   "cell_type": "code",
   "execution_count": null,
   "id": "44e2f306",
   "metadata": {},
   "outputs": [],
   "source": [
    "len(df)"
   ]
  },
  {
   "cell_type": "code",
   "execution_count": null,
   "id": "3fa6930e",
   "metadata": {},
   "outputs": [],
   "source": [
    "df.isnull().sum()"
   ]
  },
  {
   "cell_type": "code",
   "execution_count": null,
   "id": "06776a00",
   "metadata": {},
   "outputs": [],
   "source": [
    "df_dropna = df.dropna()\n",
    "df_dropna"
   ]
  },
  {
   "cell_type": "code",
   "execution_count": null,
   "id": "f740936e",
   "metadata": {},
   "outputs": [],
   "source": [
    "df_fillna = df.fillna(50)\n",
    "df_fillna"
   ]
  },
  {
   "cell_type": "code",
   "execution_count": null,
   "id": "05db13d0",
   "metadata": {},
   "outputs": [],
   "source": [
    "df.describe()"
   ]
  },
  {
   "cell_type": "code",
   "execution_count": null,
   "id": "953acc30",
   "metadata": {},
   "outputs": [],
   "source": [
    "df['국어'].sum()"
   ]
  },
  {
   "cell_type": "code",
   "execution_count": null,
   "id": "3ccf3d4a",
   "metadata": {},
   "outputs": [],
   "source": [
    "df.value_counts('영어')"
   ]
  },
  {
   "cell_type": "code",
   "execution_count": null,
   "id": "003dae15",
   "metadata": {},
   "outputs": [],
   "source": [
    "df['국어']"
   ]
  },
  {
   "cell_type": "code",
   "execution_count": null,
   "id": "b79344dd",
   "metadata": {},
   "outputs": [],
   "source": [
    "df[['국어', '영어']]"
   ]
  },
  {
   "cell_type": "code",
   "execution_count": null,
   "id": "e08e2601",
   "metadata": {},
   "outputs": [],
   "source": [
    "df.loc[1]"
   ]
  },
  {
   "cell_type": "code",
   "execution_count": null,
   "id": "8ad50117",
   "metadata": {},
   "outputs": [],
   "source": [
    "df.loc[[1,2,3]]"
   ]
  },
  {
   "cell_type": "code",
   "execution_count": null,
   "id": "42cdd83a",
   "metadata": {},
   "outputs": [],
   "source": [
    "df.iloc[2]"
   ]
  },
  {
   "cell_type": "code",
   "execution_count": null,
   "id": "6d034d86",
   "metadata": {},
   "outputs": [],
   "source": [
    "df.iloc[2:5]"
   ]
  },
  {
   "cell_type": "code",
   "execution_count": null,
   "id": "0b688129",
   "metadata": {},
   "outputs": [],
   "source": [
    "# 시퀀스가 아니라 인덱스로 추출\n",
    "df.loc[2:5]"
   ]
  },
  {
   "cell_type": "code",
   "execution_count": null,
   "id": "580d791f",
   "metadata": {},
   "outputs": [],
   "source": [
    "df"
   ]
  },
  {
   "cell_type": "code",
   "execution_count": null,
   "id": "968cc258",
   "metadata": {},
   "outputs": [],
   "source": [
    "df.iloc[1,3]"
   ]
  },
  {
   "cell_type": "code",
   "execution_count": null,
   "id": "a3745b4e",
   "metadata": {},
   "outputs": [],
   "source": [
    "df.iloc[1:3, 1:3]"
   ]
  },
  {
   "cell_type": "code",
   "execution_count": null,
   "id": "3076f4b3",
   "metadata": {},
   "outputs": [],
   "source": [
    "#6주차 visualization"
   ]
  },
  {
   "cell_type": "code",
   "execution_count": null,
   "id": "13a6f5ef",
   "metadata": {},
   "outputs": [],
   "source": [
    "#6주차 visualization"
   ]
  },
  {
   "cell_type": "code",
   "execution_count": null,
   "id": "272a38e6",
   "metadata": {},
   "outputs": [],
   "source": [
    "# 한글 폰트 처리 : 런타임 다시 시작 필요\n",
    "!sudo apt-get install -y fonts-nanum\n",
    "!sudo fc-cache -fv\n",
    "!rm ~/.cache/matplotlib -rf\n"
   ]
  },
  {
   "cell_type": "code",
   "execution_count": null,
   "id": "19554dd8",
   "metadata": {},
   "outputs": [],
   "source": [
    "import matplotlib as mpl\n",
    "import matplotlib.pyplot as plt\n",
    "import numpy as np\n",
    "\n",
    "%matplotlib inline"
   ]
  },
  {
   "cell_type": "code",
   "execution_count": null,
   "id": "36f5a6f3",
   "metadata": {},
   "outputs": [],
   "source": [
    "# matplotlib 한글폰트 지정\n",
    "plt.rc('font', family='NanumBarunGothic')\n",
    "\n",
    "# - 기호 깨짐 오류 방지\n",
    "plt.rc('axes', unicode_minus = False)"
   ]
  },
  {
   "cell_type": "code",
   "execution_count": null,
   "id": "bbdd6cb9",
   "metadata": {},
   "outputs": [],
   "source": [
    "# x측\n",
    "x = ['1월', '2월', '3월', '4월', '5월']\n",
    "y = [7, 10, 17, 20, 23]\n",
    "\n",
    "# 그래프\n",
    "plt.plot(x,y)\n",
    "plt.show()"
   ]
  },
  {
   "cell_type": "code",
   "execution_count": null,
   "id": "65346bba",
   "metadata": {},
   "outputs": [],
   "source": [
    "# x측\n",
    "x = ['1월', '2월', '3월', '4월', '5월']\n",
    "y = [7, 10, 17, 20, 23]\n",
    "\n",
    "# 그래프\n",
    "plt.plot(x,y, color=\"blue\", marker = 'o', linestyle = ':')\n",
    "plt.title('월별 평균 온도', fontsize=15)\n",
    "plt.ylabel('온도(도)')\n",
    "plt.grid(linestyle = ':')\n",
    "plt.show()"
   ]
  },
  {
   "cell_type": "code",
   "execution_count": null,
   "id": "f553e27a",
   "metadata": {},
   "outputs": [],
   "source": [
    "# 40개의 임의의 랜덤값을 생성\n",
    "aVal = np.random.standard_normal(40)\n",
    "aVal"
   ]
  },
  {
   "cell_type": "code",
   "execution_count": null,
   "id": "e67e534f",
   "metadata": {},
   "outputs": [],
   "source": [
    "# type 확인\n",
    "# 40개의 랜덤값으로 이루어진 numpy.ndarray형 변수\n",
    "type(aVal)"
   ]
  },
  {
   "cell_type": "code",
   "execution_count": null,
   "id": "ce881235",
   "metadata": {},
   "outputs": [],
   "source": [
    "index = range(len(aVal))\n",
    "plt.plot(index, aVal)\n",
    "\n",
    "# x축, y축의 범위 설정\n",
    "plt.xlim(0, 20)\n",
    "plt.ylim(np.min(aVal) -1, np.max(aVal) + 1)\n",
    "plt.show()"
   ]
  },
  {
   "cell_type": "code",
   "execution_count": null,
   "id": "fe07f7d5",
   "metadata": {},
   "outputs": [],
   "source": [
    "# index는 range 형 변수\n",
    "type(index)"
   ]
  },
  {
   "cell_type": "code",
   "execution_count": null,
   "id": "793056cf",
   "metadata": {},
   "outputs": [],
   "source": [
    "plt.figure(figsize=(7,4))\n",
    "plt.plot(aVal.cumsum(), 'b', lw= 1.5)\n",
    "plt.plot(aVal.cumsum(), 'ro')\n",
    "plt.xlabel('index')\n",
    "plt.ylabel('aVal')\n",
    "plt.title('Line Plot')\n",
    "plt.show()"
   ]
  },
  {
   "cell_type": "code",
   "execution_count": null,
   "id": "b1b8b03a",
   "metadata": {},
   "outputs": [],
   "source": [
    "value = np.random.standard_normal((30, 2))\n",
    "value"
   ]
  },
  {
   "cell_type": "code",
   "execution_count": null,
   "id": "2da3f643",
   "metadata": {},
   "outputs": [],
   "source": [
    "value[0]"
   ]
  },
  {
   "cell_type": "code",
   "execution_count": null,
   "id": "237b4a16",
   "metadata": {},
   "outputs": [],
   "source": [
    "plt.figure(figsize=(10,4))\n",
    "plt.plot(value[:,0], lw= 1.5)\n",
    "plt.plot(value[:,1], lw= 1.5)\n",
    "plt.plot(value, 'ro')\n",
    "plt.grid(True)\n",
    "# plt.legend(loc=0)\n",
    "plt.xlabel('index')\n",
    "plt.ylabel('value')\n",
    "plt.title('Line Plot')"
   ]
  },
  {
   "cell_type": "code",
   "execution_count": null,
   "id": "4fe57f8a",
   "metadata": {},
   "outputs": [],
   "source": [
    "# 1번째\n",
    "plt.figure(figsize=(10,5))\n",
    "plt.subplot(211)\n",
    "plt.plot(value[:,0], lw = 1.5, label = '1st')\n",
    "plt.plot(value[:,0], 'ro')\n",
    "plt.grid(True)\n",
    "plt.legend(loc = 0)\n",
    "plt.ylabel(\"value\")\n",
    "plt.title('Line Plot 3')\n",
    "# 2번째\n",
    "plt.subplot(212)\n",
    "plt.plot(value[:,1], 'g', lw = 1.5, label = '2nd')\n",
    "plt.grid(True)\n",
    "plt.legend(loc=0)\n",
    "plt.axis('tight')\n",
    "plt.ylabel('value')"
   ]
  },
  {
   "cell_type": "code",
   "execution_count": null,
   "id": "92525abe",
   "metadata": {},
   "outputs": [],
   "source": [
    "# 1번째\n",
    "plt.figure(figsize=(13,5))\n",
    "plt.subplot(231)\n",
    "plt.plot(value[:,0], lw= 1.5, label = '1st')\n",
    "plt.plot(value[:,0], 'co')\n",
    "plt.grid(True)\n",
    "plt.legend(loc=0)\n",
    "plt.ylabel('value')\n",
    "plt.title('Line Plot 3')\n",
    "# 2번째\n",
    "plt.subplot(232)\n",
    "plt.plot(value[:,0], 'g-.', lw=1.5, label='1st')\n",
    "plt.grid(True)\n",
    "plt.legend(loc=0)\n",
    "plt.axis('tight')\n",
    "plt.ylabel('value')\n",
    "# 3번째\n",
    "plt.subplot(233)\n",
    "plt.plot(value[:,0], 'g', lw=1.5, label='1st')\n",
    "plt.plot(value[:,0], 'bD')\n",
    "plt.grid(True)\n",
    "plt.legend(loc=0)\n",
    "plt.axis('tight')\n",
    "plt.ylabel('value')\n",
    "# 4번째\n",
    "plt.subplot(234)\n",
    "plt.plot(value[:,1], '*', lw=1.5, label='2nd')\n",
    "plt.grid(True)\n",
    "plt.legend(loc=0)\n",
    "plt.axis('tight')\n",
    "plt.ylabel('value')\n",
    "# 5번째\n",
    "plt.subplot(235)\n",
    "plt.plot(value[:,1], 'b', lw=1.5, label='2nd')\n",
    "plt.plot(value[:,1], 'ms')\n",
    "plt.grid(True)\n",
    "plt.legend(loc=0)\n",
    "plt.axis('tight')\n",
    "plt.ylabel('value')\n",
    "# 6번째\n",
    "plt.subplot(236)\n",
    "plt.plot(value[:,1], 'r--', lw=1.5, label='2nd')\n",
    "plt.grid(True)\n",
    "plt.legend(loc=0)\n",
    "plt.axis('tight')\n",
    "plt.ylabel('value')"
   ]
  },
  {
   "cell_type": "code",
   "execution_count": null,
   "id": "c3f41082",
   "metadata": {},
   "outputs": [],
   "source": [
    "# x측\n",
    "x = ['1월', '2월', '3월', '4월', '5월']\n",
    "y = [7, 10, 17, 20, 23]\n",
    "\n",
    "# 그래프\n",
    "plt.bar(x,y)\n",
    "plt.show()"
   ]
  },
  {
   "cell_type": "code",
   "execution_count": null,
   "id": "08c6f1d4",
   "metadata": {},
   "outputs": [],
   "source": [
    "# x측\n",
    "x = ['1월', '2월', '3월', '4월', '5월']\n",
    "y = [7, 10, 17, 20, 23]\n",
    "\n",
    "# 그래프\n",
    "plt.barh(x,y)\n",
    "plt.show()"
   ]
  },
  {
   "cell_type": "code",
   "execution_count": null,
   "id": "c26553c0",
   "metadata": {},
   "outputs": [],
   "source": [
    "# x측\n",
    "x = ['1월', '2월', '3월', '4월', '5월']\n",
    "y = [7, 10, 17, 20, 23]\n",
    "\n",
    "# 그래프\n",
    "plt.bar(x,y, color=\"orange\", width = 0.5, edgecolor = 'black', hatch = '/')\n",
    "plt.title('월별 평균 온도', fontsize=15)\n",
    "plt.ylabel('온도(도)')\n",
    "plt.grid(linestyle = ':', axis = 'y')\n",
    "plt.show()\n"
   ]
  },
  {
   "cell_type": "code",
   "execution_count": null,
   "id": "1d5e7488",
   "metadata": {},
   "outputs": [],
   "source": [
    "# pandas를 import\n",
    "import pandas as pd\n",
    "\n",
    "# score.csv 파일 일기\n",
    "df = pd.read_csv('scores.csv', encoding='cp949')\n",
    "df"
   ]
  },
  {
   "cell_type": "code",
   "execution_count": null,
   "id": "f8afa06b",
   "metadata": {},
   "outputs": [],
   "source": [
    "x = df['이름']\n",
    "y_kor = df['국어']\n",
    "\n",
    "plt.bar(x, y_kor)\n",
    "plt.show()"
   ]
  },
  {
   "cell_type": "code",
   "execution_count": null,
   "id": "2bc7504d",
   "metadata": {},
   "outputs": [],
   "source": [
    "x = df['이름']\n",
    "y_kor = df['국어']\n",
    "y_eng = df['영어']\n",
    "\n",
    "# 중심을 기준으로 왼쪽/오른쪽에 그래프를 구성\n",
    "plt.bar(x, y_kor, width = -0.4, align = 'edge', label = '국어')\n",
    "plt.bar(x, y_eng, width = 0.4, align = 'edge', label = '영어')\n",
    "plt.title('국어/영어 점수 비교', fontsize = 15)\n",
    "plt.ylabel('점수')\n",
    "\n",
    "# 범례\n",
    "plt.legend() \n",
    "plt.show()"
   ]
  },
  {
   "cell_type": "code",
   "execution_count": null,
   "id": "1cd34f44",
   "metadata": {},
   "outputs": [],
   "source": [
    "value = np.random.standard_normal((500,2))\n",
    "plt.plot(value[:,0], value[:,1], 'ro')\n",
    "plt.grid(False)\n",
    "plt.xlabel('value 1')\n",
    "plt.ylabel('value 2')\n",
    "plt.title('Scatter Plot 1')"
   ]
  },
  {
   "cell_type": "code",
   "execution_count": null,
   "id": "1e4123ab",
   "metadata": {},
   "outputs": [],
   "source": [
    "plt.figure(figsize=(7,5))\n",
    "plt.scatter(value[:,0], value[:,1], marker='o')\n",
    "plt.grid(True)\n",
    "plt.xlabel('value 1')\n",
    "plt.ylabel('value 2')\n",
    "plt.title('Scatter Plot 2')"
   ]
  },
  {
   "cell_type": "code",
   "execution_count": null,
   "id": "abdc9f28",
   "metadata": {},
   "outputs": [],
   "source": [
    "color = np.random.randint(0,10,len(value))\n",
    "\n",
    "plt.figure(figsize=(10,5))\n",
    "plt.scatter(value[:,0], value[:,1], c=color, marker = 'o')\n",
    "plt.colorbar()\n",
    "plt.xlabel('value 1')\n",
    "plt.ylabel('value 2')\n",
    "plt.title('Scatter Plot 3')"
   ]
  },
  {
   "cell_type": "code",
   "execution_count": null,
   "id": "b1028675",
   "metadata": {},
   "outputs": [],
   "source": [
    "import seaborn as sns\n",
    "df = sns.load_dataset('tips')\n",
    "df"
   ]
  },
  {
   "cell_type": "code",
   "execution_count": null,
   "id": "e28a87b1",
   "metadata": {},
   "outputs": [],
   "source": [
    "df.head()"
   ]
  },
  {
   "cell_type": "code",
   "execution_count": null,
   "id": "2a775e33",
   "metadata": {},
   "outputs": [],
   "source": [
    "df.describe()"
   ]
  },
  {
   "cell_type": "code",
   "execution_count": null,
   "id": "f546d4ec",
   "metadata": {},
   "outputs": [],
   "source": [
    "df.info()"
   ]
  },
  {
   "cell_type": "code",
   "execution_count": null,
   "id": "1535f62f",
   "metadata": {},
   "outputs": [],
   "source": [
    "x = df['total_bill']\n",
    "y = df['tip']\n",
    "\n",
    "sns.scatterplot(x,y)"
   ]
  },
  {
   "cell_type": "code",
   "execution_count": null,
   "id": "440451ae",
   "metadata": {},
   "outputs": [],
   "source": [
    "sns.boxplot(x=\"day\", y = \"tip\", hue=\"sex\", data=df, palette=\"muted\")"
   ]
  },
  {
   "cell_type": "code",
   "execution_count": null,
   "id": "a61783a0",
   "metadata": {},
   "outputs": [],
   "source": [
    "#7주차 data analysis"
   ]
  },
  {
   "cell_type": "code",
   "execution_count": null,
   "id": "ef8f95a3",
   "metadata": {},
   "outputs": [],
   "source": [
    "import seaborn as sns\n",
    "import matplotlib.pyplot as plt\n",
    "import pandas as pd\n",
    "\n",
    "%matplotlib inline    \n",
    "\n",
    "iris = sns.load_dataset('iris')\n",
    "iris"
   ]
  },
  {
   "cell_type": "code",
   "execution_count": null,
   "id": "dccd752d",
   "metadata": {},
   "outputs": [],
   "source": [
    "iris.groupby('species').size()"
   ]
  },
  {
   "cell_type": "code",
   "execution_count": null,
   "id": "81e61a75",
   "metadata": {},
   "outputs": [],
   "source": [
    "iris.describe()"
   ]
  },
  {
   "cell_type": "code",
   "execution_count": null,
   "id": "e0141b50",
   "metadata": {},
   "outputs": [],
   "source": [
    "type(iris)"
   ]
  },
  {
   "cell_type": "code",
   "execution_count": null,
   "id": "8d5e3769",
   "metadata": {},
   "outputs": [],
   "source": [
    "# seaborn\n",
    "sns.pairplot(iris)\n",
    "plt.title(\"Iris Data Analysis\")"
   ]
  },
  {
   "cell_type": "code",
   "execution_count": null,
   "id": "9714a073",
   "metadata": {},
   "outputs": [],
   "source": [
    "# kde plot을 적용\n",
    "sns.pairplot(iris, hue=\"species\", diag_kind='kde')"
   ]
  },
  {
   "cell_type": "code",
   "execution_count": null,
   "id": "0a884e1c",
   "metadata": {},
   "outputs": [],
   "source": [
    "sns.boxplot(x='species', y=\"petal_length\", data=iris)"
   ]
  },
  {
   "cell_type": "code",
   "execution_count": null,
   "id": "63148330",
   "metadata": {},
   "outputs": [],
   "source": [
    "sns.boxplot(x='species', y=\"petal_width\", data=iris)"
   ]
  },
  {
   "cell_type": "code",
   "execution_count": null,
   "id": "22d4f177",
   "metadata": {},
   "outputs": [],
   "source": [
    "# pandas box plot\n",
    "iris.boxplot(by=\"species\", figsize=(16,8))"
   ]
  },
  {
   "cell_type": "code",
   "execution_count": null,
   "id": "c8e7dd17",
   "metadata": {},
   "outputs": [],
   "source": []
  }
 ],
 "metadata": {
  "kernelspec": {
   "display_name": "Python 3 (ipykernel)",
   "language": "python",
   "name": "python3"
  },
  "language_info": {
   "codemirror_mode": {
    "name": "ipython",
    "version": 3
   },
   "file_extension": ".py",
   "mimetype": "text/x-python",
   "name": "python",
   "nbconvert_exporter": "python",
   "pygments_lexer": "ipython3",
   "version": "3.9.7"
  }
 },
 "nbformat": 4,
 "nbformat_minor": 5
}
